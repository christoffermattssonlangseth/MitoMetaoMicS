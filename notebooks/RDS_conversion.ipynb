{
 "cells": [
  {
   "cell_type": "code",
   "execution_count": 1,
   "id": "cd9c6aca-6b64-4b7b-b602-892b1e773e52",
   "metadata": {},
   "outputs": [
    {
     "name": "stderr",
     "output_type": "stream",
     "text": [
      "Loading required package: SeuratObject\n",
      "\n",
      "Loading required package: sp\n",
      "\n",
      "\n",
      "Attaching package: ‘SeuratObject’\n",
      "\n",
      "\n",
      "The following objects are masked from ‘package:base’:\n",
      "\n",
      "    intersect, t\n",
      "\n",
      "\n",
      "Registered S3 method overwritten by 'SeuratDisk':\n",
      "  method            from  \n",
      "  as.sparse.H5Group Seurat\n",
      "\n"
     ]
    }
   ],
   "source": [
    "# Load libraries\n",
    "library(Seurat)\n",
    "library(SeuratDisk)"
   ]
  },
  {
   "cell_type": "code",
   "execution_count": 2,
   "id": "17c1d06f-4720-4669-ad92-2b301921fff8",
   "metadata": {},
   "outputs": [],
   "source": [
    "seu <- readRDS(\"/Users/christoffer/Downloads/EAE_CtrlPeak_multiomics_UCSC.rds\")\n"
   ]
  },
  {
   "cell_type": "code",
   "execution_count": 5,
   "id": "8b912c11-980c-4b15-9f4a-41fa16398716",
   "metadata": {},
   "outputs": [
    {
     "name": "stderr",
     "output_type": "stream",
     "text": [
      "also installing the dependencies ‘credentials’, ‘zip’, ‘gitcreds’, ‘ini’, ‘curl’, ‘diffobj’, ‘gert’, ‘gh’, ‘rprojroot’, ‘whisker’, ‘downlit’, ‘httr2’, ‘xopen’, ‘brew’, ‘brio’, ‘praise’, ‘waldo’, ‘usethis’, ‘desc’, ‘pkgbuild’, ‘pkgdown’, ‘pkgload’, ‘profvis’, ‘rcmdcheck’, ‘roxygen2’, ‘rversions’, ‘sessioninfo’, ‘testthat’, ‘urlchecker’\n",
      "\n",
      "\n",
      "Warning message in install.packages(\"devtools\"):\n",
      "“installation of package ‘zip’ had non-zero exit status”\n",
      "Warning message in install.packages(\"devtools\"):\n",
      "“installation of package ‘curl’ had non-zero exit status”\n",
      "Warning message in install.packages(\"devtools\"):\n",
      "“installation of package ‘diffobj’ had non-zero exit status”\n",
      "Warning message in install.packages(\"devtools\"):\n",
      "“installation of package ‘brio’ had non-zero exit status”\n",
      "Warning message in install.packages(\"devtools\"):\n",
      "“installation of package ‘profvis’ had non-zero exit status”\n",
      "Warning message in install.packages(\"devtools\"):\n",
      "“installation of package ‘downlit’ had non-zero exit status”\n",
      "Warning message in install.packages(\"devtools\"):\n",
      "“installation of package ‘waldo’ had non-zero exit status”\n",
      "Warning message in install.packages(\"devtools\"):\n",
      "“installation of package ‘gert’ had non-zero exit status”\n",
      "Warning message in install.packages(\"devtools\"):\n",
      "“installation of package ‘pkgdown’ had non-zero exit status”\n",
      "Warning message in install.packages(\"devtools\"):\n",
      "“installation of package ‘usethis’ had non-zero exit status”\n",
      "Warning message in install.packages(\"devtools\"):\n",
      "“installation of package ‘roxygen2’ had non-zero exit status”\n",
      "Warning message in install.packages(\"devtools\"):\n",
      "“installation of package ‘testthat’ had non-zero exit status”\n",
      "Warning message in install.packages(\"devtools\"):\n",
      "“installation of package ‘devtools’ had non-zero exit status”\n",
      "Updating HTML index of packages in '.Library'\n",
      "\n",
      "Making 'packages.html' ...\n",
      " done\n",
      "\n"
     ]
    },
    {
     "ename": "ERROR",
     "evalue": "Error in loadNamespace(x): there is no package called ‘devtools’\n",
     "output_type": "error",
     "traceback": [
      "Error in loadNamespace(x): there is no package called ‘devtools’\nTraceback:\n",
      "1. withRestarts(stop(cond), retry_loadNamespace = function() NULL)",
      "2. withOneRestart(expr, restarts[[1L]])",
      "3. doWithOneRestart(return(expr), restart)",
      "4. stop(cond)"
     ]
    }
   ],
   "source": [
    "if (!requireNamespace(\"devtools\", quietly = TRUE))\n",
    "    install.packages(\"devtools\")\n",
    "\n",
    "devtools::install_github(\"timoast/signac\")"
   ]
  },
  {
   "cell_type": "code",
   "execution_count": 3,
   "id": "53957e91-cfb2-4610-9f81-ed66e07984f9",
   "metadata": {},
   "outputs": [
    {
     "name": "stderr",
     "output_type": "stream",
     "text": [
      "Creating h5Seurat file for version 3.1.5.9900\n",
      "\n",
      "Warning message:\n",
      "“\u001b[1m\u001b[22mThe `slot` argument of `GetAssayData()` is deprecated as of SeuratObject 5.0.0.\n",
      "\u001b[36mℹ\u001b[39m Please use the `layer` argument instead.\n",
      "\u001b[36mℹ\u001b[39m The deprecated feature was likely used in the \u001b[34mSeuratDisk\u001b[39m package.\n",
      "  Please report the issue at\n",
      "  \u001b[3m\u001b[34m<https://github.com/mojaveazure/seurat-disk/issues>\u001b[39m\u001b[23m.”\n",
      "Adding counts for RNA\n",
      "\n",
      "Adding data for RNA\n",
      "\n",
      "Adding scale.data for RNA\n",
      "\n",
      "Adding variable features for RNA\n",
      "\n",
      "Adding feature-level metadata for RNA\n",
      "\n",
      "Loading required package: Signac\n",
      "\n",
      "Warning message in library(package, lib.loc = lib.loc, character.only = TRUE, logical.return = TRUE, :\n",
      "“there is no package called ‘Signac’”\n"
     ]
    },
    {
     "ename": "ERROR",
     "evalue": "Error in .requirePackage(package): unable to find required package ‘Signac’\n",
     "output_type": "error",
     "traceback": [
      "Error in .requirePackage(package): unable to find required package ‘Signac’\nTraceback:\n",
      "1. SaveH5Seurat.Seurat(seu, filename = \"EAE_CtrlPeak_multiomics_UCSC.h5Seurat\", \n .     overwrite = TRUE)",
      "2. as.h5Seurat(x = object, filename = filename, overwrite = overwrite, \n .     verbose = verbose, ...)",
      "3. as.h5Seurat.Seurat(x = object, filename = filename, overwrite = overwrite, \n .     verbose = verbose, ...)",
      "4. WriteH5Group(x = x[[assay]], name = assay, hgroup = hfile[[\"assays\"]], \n .     verbose = verbose)",
      "5. (function (classes, fdef, mtable) \n . {\n .     methods <- .findInheritedMethods(classes, fdef, mtable)\n .     if (length(methods) == 1L) \n .         return(methods[[1L]])\n .     else if (length(methods) == 0L) {\n .         cnames <- paste0(fdef@signature[seq_along(classes)], \n .             \" = \\\"\", vapply(classes, as.character, \"\"), \"\\\"\", \n .             collapse = \", \")\n .         stop(gettextf(\"unable to find an inherited method for function %s for signature %s\", \n .             sQuote(fdef@generic), sQuote(cnames)), call. = FALSE, \n .             domain = NA)\n .     }\n .     else stop(\"Internal error in finding inherited methods; didn't return a unique method\", \n .         domain = NA)\n . })(list(structure(\"ChromatinAssay\", package = \"Signac\")), new(\"nonstandardGenericFunction\", \n .     .Data = function (x, name, hgroup, verbose = TRUE) \n .     {\n .         if (!inherits(x = hgroup, what = c(\"H5File\", \"H5Group\"))) {\n .             stop(\"'hgroup' must be an HDF5 file or group object from hdf5r\", \n .                 call. = FALSE)\n .         }\n .         standardGeneric(f = \"WriteH5Group\")\n .     }, generic = structure(\"WriteH5Group\", package = \"SeuratDisk\"), \n .     package = \"SeuratDisk\", group = list(), valueClass = character(0), \n .     signature = \"x\", default = NULL, skeleton = (function (x, \n .         name, hgroup, verbose = TRUE) \n .     stop(gettextf(\"invalid call in method dispatch to '%s' (no default method)\", \n .         \"WriteH5Group\"), domain = NA))(x, name, hgroup, verbose)), \n .     <environment>)",
      "6. .findInheritedMethods(classes, fdef, mtable)",
      "7. getClass(cl1, where = where, .Force = TRUE)",
      "8. getClassDef(Class, where)",
      "9. .requirePackage(package)",
      "10. stop(gettextf(\"unable to find required package %s\", sQuote(package)), \n  .     domain = NA)",
      "11. .handleSimpleError(function (cnd) \n  . {\n  .     watcher$capture_plot_and_output()\n  .     cnd <- sanitize_call(cnd)\n  .     watcher$push(cnd)\n  .     switch(on_error, continue = invokeRestart(\"eval_continue\"), \n  .         stop = invokeRestart(\"eval_stop\"), error = NULL)\n  . }, \"unable to find required package ‘Signac’\", base::quote(.requirePackage(package)))"
     ]
    }
   ],
   "source": [
    "# 2) Save as h5Seurat (intermediate format)\n",
    "SaveH5Seurat(seu, filename = \"EAE_CtrlPeak_multiomics_UCSC.h5Seurat\", overwrite = TRUE)\n",
    "\n",
    "# 3) Convert to h5ad (for Python/Scanpy)\n",
    "Convert(\"EAE_CtrlPeak_multiomics_UCSC.h5Seurat\", dest = \"h5ad\", overwrite = TRUE)"
   ]
  },
  {
   "cell_type": "code",
   "execution_count": null,
   "id": "b7fbf079-8d1f-464b-8a13-1d4b85d98dd8",
   "metadata": {},
   "outputs": [],
   "source": []
  }
 ],
 "metadata": {
  "kernelspec": {
   "display_name": "R (conda seurat)",
   "language": "R",
   "name": "seurat"
  },
  "language_info": {
   "codemirror_mode": "r",
   "file_extension": ".r",
   "mimetype": "text/x-r-source",
   "name": "R",
   "pygments_lexer": "r",
   "version": "4.4.3"
  }
 },
 "nbformat": 4,
 "nbformat_minor": 5
}
