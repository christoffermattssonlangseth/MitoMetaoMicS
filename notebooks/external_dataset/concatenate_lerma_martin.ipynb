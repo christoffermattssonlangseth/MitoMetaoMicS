{
 "cells": [
  {
   "cell_type": "code",
   "execution_count": 1,
   "id": "bfa53924-815b-4455-a1bd-66d08b0b8fc9",
   "metadata": {},
   "outputs": [
    {
     "name": "stdout",
     "output_type": "stream",
     "text": [
      "Found 18 h5ad files: ['/Volumes/Castelo_Branco/christoffer/human_ms_xenium/data/lerma_martin/spatial/visium_CO37.h5ad', '/Volumes/Castelo_Branco/christoffer/human_ms_xenium/data/lerma_martin/spatial/visium_CO40.h5ad', '/Volumes/Castelo_Branco/christoffer/human_ms_xenium/data/lerma_martin/spatial/visium_CO41.h5ad', '/Volumes/Castelo_Branco/christoffer/human_ms_xenium/data/lerma_martin/spatial/visium_CO74.h5ad', '/Volumes/Castelo_Branco/christoffer/human_ms_xenium/data/lerma_martin/spatial/visium_CO85.h5ad', '/Volumes/Castelo_Branco/christoffer/human_ms_xenium/data/lerma_martin/spatial/visium_CO96.h5ad', '/Volumes/Castelo_Branco/christoffer/human_ms_xenium/data/lerma_martin/spatial/visium_MS94.h5ad', '/Volumes/Castelo_Branco/christoffer/human_ms_xenium/data/lerma_martin/spatial/visium_MS197D.h5ad', '/Volumes/Castelo_Branco/christoffer/human_ms_xenium/data/lerma_martin/spatial/visium_MS197U.h5ad', '/Volumes/Castelo_Branco/christoffer/human_ms_xenium/data/lerma_martin/spatial/visium_MS229.h5ad', '/Volumes/Castelo_Branco/christoffer/human_ms_xenium/data/lerma_martin/spatial/visium_MS377I.h5ad', '/Volumes/Castelo_Branco/christoffer/human_ms_xenium/data/lerma_martin/spatial/visium_MS377N.h5ad', '/Volumes/Castelo_Branco/christoffer/human_ms_xenium/data/lerma_martin/spatial/visium_MS377T.h5ad', '/Volumes/Castelo_Branco/christoffer/human_ms_xenium/data/lerma_martin/spatial/visium_MS411.h5ad', '/Volumes/Castelo_Branco/christoffer/human_ms_xenium/data/lerma_martin/spatial/visium_MS497I.h5ad', '/Volumes/Castelo_Branco/christoffer/human_ms_xenium/data/lerma_martin/spatial/visium_MS497T.h5ad', '/Volumes/Castelo_Branco/christoffer/human_ms_xenium/data/lerma_martin/spatial/visium_MS549H.h5ad', '/Volumes/Castelo_Branco/christoffer/human_ms_xenium/data/lerma_martin/spatial/visium_MS549T.h5ad']\n"
     ]
    },
    {
     "name": "stderr",
     "output_type": "stream",
     "text": [
      "/Users/christoffer/miniconda3/envs/sc/lib/python3.8/site-packages/anndata/_core/anndata.py:1838: UserWarning: Observation names are not unique. To make them unique, call `.obs_names_make_unique`.\n",
      "  utils.warn_names_duplicates(\"obs\")\n"
     ]
    },
    {
     "name": "stdout",
     "output_type": "stream",
     "text": [
      "✅ Merged AnnData saved to: /Volumes/Castelo_Branco/christoffer/human_ms_xenium/data/lerma_martin/spatial/merged_lerma_martin.h5ad\n"
     ]
    }
   ],
   "source": [
    "import scanpy as sc\n",
    "import anndata as ad\n",
    "import os\n",
    "\n",
    "# Path to your folder\n",
    "data_dir = \"/Volumes/Castelo_Branco/christoffer/human_ms_xenium/data/lerma_martin/spatial\"\n",
    "\n",
    "# Find all h5ad files in the folder\n",
    "files = [os.path.join(data_dir, f) for f in os.listdir(data_dir) if f.endswith(\".h5ad\")]\n",
    "print(f\"Found {len(files)} h5ad files:\", files)\n",
    "\n",
    "# Read and store all datasets\n",
    "adatas = []\n",
    "for f in files:\n",
    "    a = sc.read_h5ad(f)\n",
    "    \n",
    "    # Optionally add sample info from filename\n",
    "    sample_name = os.path.basename(f).replace(\".h5ad\", \"\")\n",
    "    a.obs[\"sample_id\"] = sample_name\n",
    "    \n",
    "    adatas.append(a)\n",
    "\n",
    "# Concatenate into one AnnData\n",
    "adata_merged = ad.concat(adatas, join=\"outer\", label=\"sample_id\", fill_value=0)\n",
    "\n",
    "# Save to disk\n",
    "out_file = os.path.join(data_dir, \"merged_lerma_martin.h5ad\")\n",
    "adata_merged.write(out_file)\n",
    "\n",
    "print(\"✅ Merged AnnData saved to:\", out_file)"
   ]
  },
  {
   "cell_type": "code",
   "execution_count": null,
   "id": "1058f255-b3b1-472c-a2b9-35ebc358555b",
   "metadata": {},
   "outputs": [],
   "source": []
  }
 ],
 "metadata": {
  "kernelspec": {
   "display_name": "sc",
   "language": "python",
   "name": "sc"
  },
  "language_info": {
   "codemirror_mode": {
    "name": "ipython",
    "version": 3
   },
   "file_extension": ".py",
   "mimetype": "text/x-python",
   "name": "python",
   "nbconvert_exporter": "python",
   "pygments_lexer": "ipython3",
   "version": "3.8.20"
  }
 },
 "nbformat": 4,
 "nbformat_minor": 5
}
