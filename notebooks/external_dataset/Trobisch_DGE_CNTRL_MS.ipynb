{
 "cells": [
  {
   "cell_type": "code",
   "execution_count": 5,
   "id": "b5b25dd3-f435-4b9b-9482-d63d757f7e53",
   "metadata": {},
   "outputs": [],
   "source": [
    "import scanpy as sc\n",
    "import pandas as pd"
   ]
  },
  {
   "cell_type": "code",
   "execution_count": 3,
   "id": "4c1898c2-a078-4a4c-8b5a-700e7d4859c5",
   "metadata": {},
   "outputs": [],
   "source": [
    "adata = sc.read_h5ad('/Volumes/Castelo_Branco/christoffer/human_ms_xenium/data/trobisch/trobisch_raw_data.h5ad')"
   ]
  },
  {
   "cell_type": "code",
   "execution_count": 6,
   "id": "79cd475b-bec2-405a-952e-2d4d6f4b7f4d",
   "metadata": {},
   "outputs": [],
   "source": [
    "features = pd.read_csv('/Volumes/Castelo_Branco/christoffer/human_ms_xenium/data/trobisch/features.tsv',sep = '\\t', header = None)"
   ]
  },
  {
   "cell_type": "code",
   "execution_count": 7,
   "id": "599fc668-b9a3-4b46-877f-41e2a0e44647",
   "metadata": {},
   "outputs": [],
   "source": [
    "features = features.rename(columns = {0:'gene'}).set_index('gene')"
   ]
  },
  {
   "cell_type": "code",
   "execution_count": 8,
   "id": "752f90cf-09c7-46d1-9b72-84bcde9e3039",
   "metadata": {},
   "outputs": [],
   "source": [
    "adata.var = features"
   ]
  },
  {
   "cell_type": "code",
   "execution_count": 9,
   "id": "84290fe4-7c62-4fab-92fe-9966c4d72327",
   "metadata": {},
   "outputs": [],
   "source": [
    "adata.write('../data/trobisch.h5ad')"
   ]
  },
  {
   "cell_type": "code",
   "execution_count": 13,
   "id": "2de2bcf8-4fde-4b78-892b-a44f853e10a9",
   "metadata": {},
   "outputs": [],
   "source": [
    "human_genes = [\n",
    "    \"HIF1A\",     # Hypoxia inducible factor 1 alpha\n",
    "    \"HK2\",       # Hexokinase 2\n",
    "    \"LDHA\",      # Lactate dehydrogenase A\n",
    "    \"LDHB\",      # Lactate dehydrogenase B\n",
    "    \"SLC16A1\",   # Monocarboxylate transporter 1 (MCT1)\n",
    "    \"SLC16A3\",   # Monocarboxylate transporter 4 (MCT4)\n",
    "\n",
    "        \"PDK1\",      # Pyruvate dehydrogenase kinase 1\n",
    "    \"PFKL\",      # Phosphofructokinase, liver type\n",
    "   \n",
    "    \"MFN1\",      # Mitofusin 1\n",
    "    \"MFN2\",      # Mitofusin 2\n",
    "    \"OPA1\",      # OPA1 mitochondrial dynamin like GTPase\n",
    "\n",
    "    \"PKM\",       # Pyruvate kinase M1/2\n",
    "    \"PPARGC1A\",  # PGC-1α, transcriptional coactivator\n",
    "    \"SIRT2\",     # Sirtuin 2\n",
    "\n",
    "]"
   ]
  },
  {
   "cell_type": "code",
   "execution_count": 17,
   "id": "7ebcc204-44eb-4e84-8a95-aa9de9b967fa",
   "metadata": {},
   "outputs": [],
   "source": [
    "# 1) Normalize per cell (counts → CPM/TPM-like)\n",
    "sc.pp.normalize_total(adata, target_sum=1e4)\n",
    "\n",
    "# 2) Log-transform\n",
    "sc.pp.log1p(adata)"
   ]
  },
  {
   "cell_type": "code",
   "execution_count": 32,
   "id": "7ab333e7-9c1e-48c0-8974-a5b40bd279c8",
   "metadata": {},
   "outputs": [
    {
     "data": {
      "text/plain": [
       "['OL-A',\n",
       " 'L4-LRRK1-EN',\n",
       " 'GRAN-EN',\n",
       " 'motoEN',\n",
       " 'WM-AS',\n",
       " 'OL-C',\n",
       " 'L2-L3-EN',\n",
       " 'MYO5B-IN',\n",
       " 'MG',\n",
       " 'OPC',\n",
       " 'OL-Stress',\n",
       " 'L5-L6-SEMA3E-EN',\n",
       " 'VSM',\n",
       " 'GM-AS',\n",
       " 'KIT-IN',\n",
       " 'VIP-IN',\n",
       " 'L5-L6-FRMD6-EN',\n",
       " 'L3-EN',\n",
       " 'T cells',\n",
       " 'END',\n",
       " 'SST-IN',\n",
       " 'L5-L6-NTNG2-EN',\n",
       " 'NPNT-IN',\n",
       " 'L4-NPFFR2-EN',\n",
       " 'L2-EN',\n",
       " 'L4-GABRG1-EN',\n",
       " 'STR',\n",
       " 'PER',\n",
       " 'CXCL14-IN',\n",
       " 'L5-L6-HTR2C-EN',\n",
       " 'L4-MME-EN',\n",
       " 'Mix',\n",
       " 'B cells',\n",
       " 'BG',\n",
       " 'PC',\n",
       " 'WM-AS-GFPT2',\n",
       " 'OL-B',\n",
       " 'EPD']"
      ]
     },
     "execution_count": 32,
     "metadata": {},
     "output_type": "execute_result"
    }
   ],
   "source": [
    "list(adata.obs.Cluster.unique())"
   ]
  },
  {
   "cell_type": "code",
   "execution_count": 31,
   "id": "38999e03-f135-4097-ab1c-2e8be0a74ffc",
   "metadata": {},
   "outputs": [
    {
     "data": {
      "text/plain": [
       "['WM-AS', 'GM-AS', 'WM-AS-GFPT2']\n",
       "Categories (3, object): ['GM-AS', 'WM-AS', 'WM-AS-GFPT2']"
      ]
     },
     "execution_count": 31,
     "metadata": {},
     "output_type": "execute_result"
    }
   ],
   "source": [
    "adata[adata.obs.Cluster.str.contains('AS')].obs.Cluster.unique()"
   ]
  },
  {
   "cell_type": "code",
   "execution_count": 42,
   "id": "13ca0174-022e-4c84-8681-26ad450a63ed",
   "metadata": {},
   "outputs": [
    {
     "name": "stderr",
     "output_type": "stream",
     "text": [
      "/Users/christoffer/miniconda3/envs/sc/lib/python3.8/site-packages/scanpy/tools/_rank_genes_groups.py:582: ImplicitModificationWarning: Trying to modify attribute `._uns` of view, initializing view as actual.\n",
      "  adata.uns[key_added] = {}\n"
     ]
    },
    {
     "name": "stdout",
     "output_type": "stream",
     "text": [
      "          names     scores  logfoldchanges         pvals     pvals_adj\n",
      "354        LDHA   4.826467        2.902683  1.389763e-06  5.363621e-05\n",
      "55          PKM  13.199093        2.162434  8.879772e-40  2.256135e-37\n",
      "368        LDHB   4.712542        1.382749  2.446461e-06  9.056226e-05\n",
      "335       SIRT2   5.042394        0.592548  4.597447e-07  1.889573e-05\n",
      "5245   PPARGC1A   0.215882        0.436252  8.290799e-01  1.000000e+00\n",
      "1289       OPA1   1.576155        0.241889  1.149902e-01  1.000000e+00\n",
      "5247       MFN2   0.215720        0.224419  8.292061e-01  1.000000e+00\n",
      "3203      HIF1A   0.527449        0.190919  5.978821e-01  1.000000e+00\n",
      "6142       MFN1   0.146643        0.107079  8.834136e-01  1.000000e+00\n",
      "31338      PFKL  -1.262108       -0.221035  2.069099e-01  1.000000e+00\n",
      "29862      PDK1  -0.564284       -0.500240  5.725611e-01  1.000000e+00\n",
      "28674   SLC16A3  -0.296447       -0.544179  7.668889e-01  1.000000e+00\n",
      "31200   SLC16A1  -1.161782       -0.620345  2.453239e-01  1.000000e+00\n",
      "28373       HK2  -0.253341       -0.711527  8.000049e-01  1.000000e+00\n"
     ]
    }
   ],
   "source": [
    "import scanpy as sc\n",
    "adata_sub = adata[adata.obs.Cluster.str.contains('OL')]\n",
    "# Run differential expression between conditions\n",
    "sc.tl.rank_genes_groups(\n",
    "    adata_sub,\n",
    "    groupby=\"condition\",       # column in adata.obs\n",
    "    reference=\"Control\",       # baseline group\n",
    "    method=\"wilcoxon\",         # same as before (or \"t-test\", \"logreg\")\n",
    "    use_raw=False              # set True if you want raw counts/log1p\n",
    ")\n",
    "\n",
    "# Extract results for \"MS\" vs \"Control\"\n",
    "deg_condition = sc.get.rank_genes_groups_df(adata_sub, group=\"MS\")\n",
    "deg_condition.head()\n",
    "print(deg_condition[deg_condition.names.isin(human_genes)].sort_values(by = 'logfoldchanges', ascending = False))"
   ]
  },
  {
   "cell_type": "code",
   "execution_count": 43,
   "id": "092de473-f0bf-4fca-87ee-c8adf1d44bcf",
   "metadata": {},
   "outputs": [
    {
     "name": "stderr",
     "output_type": "stream",
     "text": [
      "/Users/christoffer/miniconda3/envs/sc/lib/python3.8/site-packages/scanpy/tools/_rank_genes_groups.py:582: ImplicitModificationWarning: Trying to modify attribute `._uns` of view, initializing view as actual.\n",
      "  adata.uns[key_added] = {}\n"
     ]
    },
    {
     "name": "stdout",
     "output_type": "stream",
     "text": [
      "          names    scores  logfoldchanges         pvals     pvals_adj\n",
      "516        LDHA  3.885164        1.543838  1.022607e-04  4.454050e-03\n",
      "1662       MFN2  2.021855        1.179662  4.319130e-02  6.663063e-01\n",
      "60          PKM  8.630652        0.971099  6.100304e-18  1.440789e-15\n",
      "1228      SIRT2  2.445212        0.881832  1.447670e-02  2.910790e-01\n",
      "1204       PFKL  2.476992        0.476750  1.324947e-02  2.714483e-01\n",
      "6220    SLC16A1  0.665334        0.417432  5.058370e-01  1.000000e+00\n",
      "2937       LDHB  1.361587        0.243989  1.733284e-01  1.000000e+00\n",
      "1236      HIF1A  2.438872        0.222346  1.473319e-02  2.943420e-01\n",
      "3495       OPA1  1.196517        0.122312  2.314950e-01  1.000000e+00\n",
      "6724       PDK1  0.596398        0.107267  5.509096e-01  1.000000e+00\n",
      "5350        HK2  0.792961        0.009611  4.278005e-01  1.000000e+00\n",
      "13376   SLC16A3  0.126088       -0.009611  8.996621e-01  1.000000e+00\n",
      "12395      MFN1  0.160924       -0.115226  8.721534e-01  1.000000e+00\n",
      "33213  PPARGC1A -3.221817       -0.639066  1.273802e-03  4.053205e-02\n"
     ]
    }
   ],
   "source": [
    "import scanpy as sc\n",
    "adata_sub = adata[adata.obs.Cluster.str.contains('AS')]\n",
    "# Run differential expression between conditions\n",
    "sc.tl.rank_genes_groups(\n",
    "    adata_sub,\n",
    "    groupby=\"condition\",       # column in adata.obs\n",
    "    reference=\"Control\",       # baseline group\n",
    "    method=\"wilcoxon\",         # same as before (or \"t-test\", \"logreg\")\n",
    "    use_raw=False              # set True if you want raw counts/log1p\n",
    ")\n",
    "\n",
    "# Extract results for \"MS\" vs \"Control\"\n",
    "deg_condition = sc.get.rank_genes_groups_df(adata_sub, group=\"MS\")\n",
    "deg_condition.head()\n",
    "print(deg_condition[deg_condition.names.isin(human_genes)].sort_values(by = 'logfoldchanges', ascending = False))"
   ]
  },
  {
   "cell_type": "code",
   "execution_count": 44,
   "id": "a8cdfbb1-e145-488d-8546-de059458f167",
   "metadata": {},
   "outputs": [
    {
     "name": "stderr",
     "output_type": "stream",
     "text": [
      "/Users/christoffer/miniconda3/envs/sc/lib/python3.8/site-packages/scanpy/tools/_rank_genes_groups.py:582: ImplicitModificationWarning: Trying to modify attribute `._uns` of view, initializing view as actual.\n",
      "  adata.uns[key_added] = {}\n"
     ]
    },
    {
     "name": "stdout",
     "output_type": "stream",
     "text": [
      "          names    scores  logfoldchanges         pvals  pvals_adj\n",
      "75          PKM  5.643096        1.594943  1.670194e-08   0.000005\n",
      "325        LDHA  2.915569        1.587120  3.550406e-03   0.276273\n",
      "862        LDHB  1.672711        1.451731  9.438426e-02   1.000000\n",
      "2960      SIRT2  0.741034        0.728998  4.586728e-01   1.000000\n",
      "3282       MFN2  0.677084        0.715024  4.983529e-01   1.000000\n",
      "1132       OPA1  1.429399        0.363140  1.528897e-01   1.000000\n",
      "10476  PPARGC1A  0.104167        0.289378  9.170371e-01   1.000000\n",
      "2620    SLC16A3  0.820771        0.201383  4.117769e-01   1.000000\n",
      "9042       MFN1  0.162257        0.017590  8.711036e-01   1.000000\n",
      "10254      PFKL  0.117169       -0.069275  9.067259e-01   1.000000\n",
      "29306   SLC16A1 -0.029411       -0.113418  9.765365e-01   1.000000\n",
      "33106     HIF1A -0.860950       -0.213620  3.892654e-01   1.000000\n",
      "32590      PDK1 -0.322719       -0.374270  7.469081e-01   1.000000\n",
      "33026       HK2 -0.687009       -0.550349  4.920768e-01   1.000000\n"
     ]
    }
   ],
   "source": [
    "import scanpy as sc\n",
    "adata_sub = adata[adata.obs.Cluster.str.contains('MG')]\n",
    "# Run differential expression between conditions\n",
    "sc.tl.rank_genes_groups(\n",
    "    adata_sub,\n",
    "    groupby=\"condition\",       # column in adata.obs\n",
    "    reference=\"Control\",       # baseline group\n",
    "    method=\"wilcoxon\",         # same as before (or \"t-test\", \"logreg\")\n",
    "    use_raw=False              # set True if you want raw counts/log1p\n",
    ")\n",
    "\n",
    "# Extract results for \"MS\" vs \"Control\"\n",
    "deg_condition = sc.get.rank_genes_groups_df(adata_sub, group=\"MS\")\n",
    "deg_condition.head()\n",
    "print(deg_condition[deg_condition.names.isin(human_genes)].sort_values(by = 'logfoldchanges', ascending = False))"
   ]
  },
  {
   "cell_type": "code",
   "execution_count": null,
   "id": "4b8673eb-1cdb-4bf6-bef9-25ae42f04f44",
   "metadata": {},
   "outputs": [],
   "source": []
  }
 ],
 "metadata": {
  "kernelspec": {
   "display_name": "sc",
   "language": "python",
   "name": "sc"
  },
  "language_info": {
   "codemirror_mode": {
    "name": "ipython",
    "version": 3
   },
   "file_extension": ".py",
   "mimetype": "text/x-python",
   "name": "python",
   "nbconvert_exporter": "python",
   "pygments_lexer": "ipython3",
   "version": "3.8.20"
  }
 },
 "nbformat": 4,
 "nbformat_minor": 5
}
