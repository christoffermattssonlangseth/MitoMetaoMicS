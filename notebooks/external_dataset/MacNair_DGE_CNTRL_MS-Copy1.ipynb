{
 "cells": [
  {
   "cell_type": "code",
   "execution_count": 1,
   "id": "b5b25dd3-f435-4b9b-9482-d63d757f7e53",
   "metadata": {},
   "outputs": [],
   "source": [
    "import scanpy as sc\n",
    "import pandas as pd"
   ]
  },
  {
   "cell_type": "code",
   "execution_count": 2,
   "id": "4c1898c2-a078-4a4c-8b5a-700e7d4859c5",
   "metadata": {},
   "outputs": [
    {
     "name": "stderr",
     "output_type": "stream",
     "text": [
      "/Users/christoffer/miniconda3/envs/sc/lib/python3.8/site-packages/anndata/_core/anndata.py:1840: UserWarning: Variable names are not unique. To make them unique, call `.var_names_make_unique`.\n",
      "  utils.warn_names_duplicates(\"var\")\n"
     ]
    }
   ],
   "source": [
    "adata = sc.read_h5ad('/Volumes/Castelo_Branco/christoffer/human_ms_xenium/data/macnair/macnair_et_al.h5ad')"
   ]
  },
  {
   "cell_type": "code",
   "execution_count": 4,
   "id": "84290fe4-7c62-4fab-92fe-9966c4d72327",
   "metadata": {},
   "outputs": [],
   "source": [
    "adata.write('../../data/MacNair.h5ad')"
   ]
  },
  {
   "cell_type": "code",
   "execution_count": 5,
   "id": "2de2bcf8-4fde-4b78-892b-a44f853e10a9",
   "metadata": {},
   "outputs": [],
   "source": [
    "human_genes = [\n",
    "    \"HIF1A\",     # Hypoxia inducible factor 1 alpha\n",
    "    \"HK2\",       # Hexokinase 2\n",
    "    \"LDHA\",      # Lactate dehydrogenase A\n",
    "    \"LDHB\",      # Lactate dehydrogenase B\n",
    "    \"SLC16A1\",   # Monocarboxylate transporter 1 (MCT1)\n",
    "    \"SLC16A3\",   # Monocarboxylate transporter 4 (MCT4)\n",
    "\n",
    "        \"PDK1\",      # Pyruvate dehydrogenase kinase 1\n",
    "    \"PFKL\",      # Phosphofructokinase, liver type\n",
    "   \n",
    "    \"MFN1\",      # Mitofusin 1\n",
    "    \"MFN2\",      # Mitofusin 2\n",
    "    \"OPA1\",      # OPA1 mitochondrial dynamin like GTPase\n",
    "\n",
    "    \"PKM\",       # Pyruvate kinase M1/2\n",
    "    \"PPARGC1A\",  # PGC-1α, transcriptional coactivator\n",
    "    \"SIRT2\",     # Sirtuin 2\n",
    "\n",
    "]"
   ]
  },
  {
   "cell_type": "code",
   "execution_count": 7,
   "id": "83846ca3-cd15-4f18-82be-ddbd5ec8f5dd",
   "metadata": {},
   "outputs": [
    {
     "data": {
      "text/plain": [
       "12237.0"
      ]
     },
     "execution_count": 7,
     "metadata": {},
     "output_type": "execute_result"
    }
   ],
   "source": [
    "adata.X.max()"
   ]
  },
  {
   "cell_type": "code",
   "execution_count": 8,
   "id": "7ebcc204-44eb-4e84-8a95-aa9de9b967fa",
   "metadata": {},
   "outputs": [],
   "source": [
    "# 1) Normalize per cell (counts → CPM/TPM-like)\n",
    "sc.pp.normalize_total(adata, target_sum=1e4)\n",
    "\n",
    "# 2) Log-transform\n",
    "sc.pp.log1p(adata)"
   ]
  },
  {
   "cell_type": "code",
   "execution_count": 21,
   "id": "03e343ce-ed55-4906-9203-82e7bb42806c",
   "metadata": {},
   "outputs": [
    {
     "data": {
      "text/plain": [
       "['Astrocytes',\n",
       " 'Excitatory neurons',\n",
       " 'OPCs + COPs',\n",
       " 'Endo + Peri',\n",
       " 'Inhibitory neurons',\n",
       " 'Oligodendrocytes',\n",
       " 'T cells',\n",
       " 'B cells',\n",
       " 'Microglia']"
      ]
     },
     "execution_count": 21,
     "metadata": {},
     "output_type": "execute_result"
    }
   ],
   "source": [
    "list(adata.obs.type_broad.unique())"
   ]
  },
  {
   "cell_type": "code",
   "execution_count": 19,
   "id": "25c87c2c-f971-4ac1-9bfc-7ee97fca852a",
   "metadata": {},
   "outputs": [],
   "source": [
    "adata.obs.diagnosis.unique()\n",
    "adata.obs['condition'] = adata.obs.diagnosis.map(dict(zip(['CTR', 'SPMS', 'PPMS', 'RRMS'],['CNTRL','MS','MS','MS'])))"
   ]
  },
  {
   "cell_type": "code",
   "execution_count": 23,
   "id": "13ca0174-022e-4c84-8681-26ad450a63ed",
   "metadata": {},
   "outputs": [
    {
     "name": "stderr",
     "output_type": "stream",
     "text": [
      "/Users/christoffer/miniconda3/envs/sc/lib/python3.8/site-packages/anndata/_core/anndata.py:1230: ImplicitModificationWarning: Trying to modify attribute `.obs` of view, initializing view as actual.\n",
      "  df[key] = c\n",
      "/Users/christoffer/miniconda3/envs/sc/lib/python3.8/site-packages/anndata/_core/anndata.py:1840: UserWarning: Variable names are not unique. To make them unique, call `.var_names_make_unique`.\n",
      "  utils.warn_names_duplicates(\"var\")\n"
     ]
    },
    {
     "name": "stdout",
     "output_type": "stream",
     "text": [
      "          names     scores  logfoldchanges         pvals     pvals_adj\n",
      "3409       LDHA   9.124814        1.002960  7.185957e-20  6.665324e-19\n",
      "14749      LDHB   0.586018        0.541713  5.578633e-01  1.000000e+00\n",
      "4145    SLC16A1   7.941396        0.511793  1.999179e-15  1.529336e-14\n",
      "1322       OPA1  14.615860        0.398638  2.225275e-48  5.120244e-47\n",
      "2939       MFN1  10.049322        0.392631  9.250188e-24  9.909789e-23\n",
      "7480       PDK1   4.102162        0.329133  4.093065e-05  1.753750e-04\n",
      "2321      HIF1A  11.429534        0.273102  2.977008e-30  3.995123e-29\n",
      "10166   SLC16A3   2.232712        0.214037  2.556797e-02  8.069853e-02\n",
      "4746        PKM   7.050085        0.108199  1.788086e-12  1.197904e-11\n",
      "5954      SIRT2   5.566995        0.017592  2.591696e-08  1.389128e-07\n",
      "8040       MFN2   3.602909       -0.027580  3.146761e-04  1.254970e-03\n",
      "33054       HK2  -0.606432       -0.370763  5.442279e-01  1.000000e+00\n",
      "33516      PFKL  -4.510626       -0.530887  6.463658e-06  2.958065e-05\n",
      "33729  PPARGC1A -11.225672       -0.706482  3.050593e-29  3.956212e-28\n"
     ]
    }
   ],
   "source": [
    "import scanpy as sc\n",
    "adata_sub = adata[adata.obs.type_broad.str.contains('Astrocytes')]\n",
    "# Run differential expression between conditions\n",
    "sc.tl.rank_genes_groups(\n",
    "    adata_sub,\n",
    "    groupby=\"condition\",       # column in adata.obs\n",
    "    reference=\"CNTRL\",       # baseline group\n",
    "    method=\"wilcoxon\",         # same as before (or \"t-test\", \"logreg\")\n",
    "    use_raw=False              # set True if you want raw counts/log1p\n",
    ")\n",
    "\n",
    "# Extract results for \"MS\" vs \"Control\"\n",
    "deg_condition = sc.get.rank_genes_groups_df(adata_sub, group=\"MS\")\n",
    "deg_condition.head()\n",
    "print(deg_condition[deg_condition.names.isin(human_genes)].sort_values(by = 'logfoldchanges', ascending = False))"
   ]
  },
  {
   "cell_type": "code",
   "execution_count": 24,
   "id": "092de473-f0bf-4fca-87ee-c8adf1d44bcf",
   "metadata": {},
   "outputs": [
    {
     "name": "stderr",
     "output_type": "stream",
     "text": [
      "/Users/christoffer/miniconda3/envs/sc/lib/python3.8/site-packages/anndata/_core/anndata.py:1230: ImplicitModificationWarning: Trying to modify attribute `.obs` of view, initializing view as actual.\n",
      "  df[key] = c\n",
      "/Users/christoffer/miniconda3/envs/sc/lib/python3.8/site-packages/anndata/_core/anndata.py:1840: UserWarning: Variable names are not unique. To make them unique, call `.var_names_make_unique`.\n",
      "  utils.warn_names_duplicates(\"var\")\n"
     ]
    },
    {
     "name": "stdout",
     "output_type": "stream",
     "text": [
      "          names     scores  logfoldchanges          pvals      pvals_adj\n",
      "16207  PPARGC1A  -0.092444        0.224129   9.263449e-01   1.000000e+00\n",
      "25912      MFN2  -3.779144        0.062328   1.573685e-04   6.386382e-04\n",
      "19337      LDHB  -0.327612        0.035229   7.432053e-01   1.000000e+00\n",
      "31159      OPA1 -15.471097       -0.102832   5.437285e-54   6.450053e-53\n",
      "31733     SIRT2 -18.227844       -0.183122   3.103183e-74   4.637557e-73\n",
      "33043      MFN1 -28.600920       -0.381276  6.543996e-180  2.395865e-178\n",
      "28047      LDHA  -6.777135       -0.420520   1.225823e-11   6.815728e-11\n",
      "31951     HIF1A -19.399189       -0.421923   7.839741e-84   1.302364e-82\n",
      "33203      PFKL -30.897209       -0.509926  1.302149e-209  5.807309e-208\n",
      "31732       PKM -18.221735       -0.540666   3.469820e-74   5.183196e-73\n",
      "29508      PDK1 -10.041210       -0.649422   1.004342e-23   7.432703e-23\n",
      "27616   SLC16A3  -6.061020       -0.793436   1.352611e-09   7.007519e-09\n",
      "32633   SLC16A1 -24.242714       -0.893060  7.892086e-130  1.989967e-128\n",
      "27438       HK2  -5.796611       -1.136120   6.766842e-09   3.409946e-08\n"
     ]
    }
   ],
   "source": [
    "import scanpy as sc\n",
    "adata_sub = adata[adata.obs.type_broad.str.contains('Oligodendrocytes')]\n",
    "# Run differential expression between conditions\n",
    "sc.tl.rank_genes_groups(\n",
    "    adata_sub,\n",
    "    groupby=\"condition\",       # column in adata.obs\n",
    "    reference=\"CNTRL\",       # baseline group\n",
    "    method=\"wilcoxon\",         # same as before (or \"t-test\", \"logreg\")\n",
    "    use_raw=False              # set True if you want raw counts/log1p\n",
    ")\n",
    "\n",
    "# Extract results for \"MS\" vs \"Control\"\n",
    "deg_condition = sc.get.rank_genes_groups_df(adata_sub, group=\"MS\")\n",
    "deg_condition.head()\n",
    "print(deg_condition[deg_condition.names.isin(human_genes)].sort_values(by = 'logfoldchanges', ascending = False))"
   ]
  },
  {
   "cell_type": "code",
   "execution_count": 25,
   "id": "a8cdfbb1-e145-488d-8546-de059458f167",
   "metadata": {},
   "outputs": [
    {
     "name": "stderr",
     "output_type": "stream",
     "text": [
      "/Users/christoffer/miniconda3/envs/sc/lib/python3.8/site-packages/anndata/_core/anndata.py:1230: ImplicitModificationWarning: Trying to modify attribute `.obs` of view, initializing view as actual.\n",
      "  df[key] = c\n",
      "/Users/christoffer/miniconda3/envs/sc/lib/python3.8/site-packages/anndata/_core/anndata.py:1840: UserWarning: Variable names are not unique. To make them unique, call `.var_names_make_unique`.\n",
      "  utils.warn_names_duplicates(\"var\")\n"
     ]
    },
    {
     "name": "stdout",
     "output_type": "stream",
     "text": [
      "          names     scores  logfoldchanges         pvals     pvals_adj\n",
      "7437   PPARGC1A   0.096112        1.749210  9.234318e-01  1.000000e+00\n",
      "124         PKM  12.274968        0.729479  1.234409e-34  9.697823e-33\n",
      "32        HIF1A  20.588469        0.696518  3.481999e-94  7.205828e-92\n",
      "467        LDHA   5.338110        0.459264  9.392026e-08  2.027710e-06\n",
      "347     SLC16A3   6.680338        0.382859  2.383913e-11  6.986842e-10\n",
      "751        PFKL   3.594485        0.369085  3.250338e-04  4.652604e-03\n",
      "2565       OPA1   0.895617        0.069681  3.704575e-01  1.000000e+00\n",
      "27952      MFN2  -0.345343        0.013924  7.298362e-01  1.000000e+00\n",
      "10529     SIRT2   0.031906       -0.032993  9.745467e-01  1.000000e+00\n",
      "29701      PDK1  -0.842740       -0.070522  3.993742e-01  1.000000e+00\n",
      "31252      MFN1  -1.913362       -0.170361  5.570175e-02  4.623286e-01\n",
      "33245       HK2  -7.546397       -0.314346  4.474634e-14  1.526277e-12\n",
      "31586   SLC16A1  -2.282838       -0.652637  2.243992e-02  2.145319e-01\n",
      "27089      LDHB  -0.207205       -0.798918  8.358494e-01  1.000000e+00\n"
     ]
    }
   ],
   "source": [
    "import scanpy as sc\n",
    "adata_sub = adata[adata.obs.type_broad.str.contains('Microglia')]\n",
    "# Run differential expression between conditions\n",
    "sc.tl.rank_genes_groups(\n",
    "    adata_sub,\n",
    "    groupby=\"condition\",       # column in adata.obs\n",
    "    reference=\"CNTRL\",       # baseline group\n",
    "    method=\"wilcoxon\",         # same as before (or \"t-test\", \"logreg\")\n",
    "    use_raw=False              # set True if you want raw counts/log1p\n",
    ")\n",
    "\n",
    "# Extract results for \"MS\" vs \"Control\"\n",
    "deg_condition = sc.get.rank_genes_groups_df(adata_sub, group=\"MS\")\n",
    "deg_condition.head()\n",
    "print(deg_condition[deg_condition.names.isin(human_genes)].sort_values(by = 'logfoldchanges', ascending = False))"
   ]
  },
  {
   "cell_type": "code",
   "execution_count": null,
   "id": "4b8673eb-1cdb-4bf6-bef9-25ae42f04f44",
   "metadata": {},
   "outputs": [],
   "source": []
  }
 ],
 "metadata": {
  "kernelspec": {
   "display_name": "sc",
   "language": "python",
   "name": "sc"
  },
  "language_info": {
   "codemirror_mode": {
    "name": "ipython",
    "version": 3
   },
   "file_extension": ".py",
   "mimetype": "text/x-python",
   "name": "python",
   "nbconvert_exporter": "python",
   "pygments_lexer": "ipython3",
   "version": "3.8.20"
  }
 },
 "nbformat": 4,
 "nbformat_minor": 5
}
