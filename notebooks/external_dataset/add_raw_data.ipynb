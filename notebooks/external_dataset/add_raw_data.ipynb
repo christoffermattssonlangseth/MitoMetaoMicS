{
 "cells": [
  {
   "cell_type": "code",
   "execution_count": null,
   "id": "0e43425d-48fe-4e67-a449-da1cf84f85e1",
   "metadata": {},
   "outputs": [],
   "source": [
    "import scanpy as sc\n",
    "import numpy as np\n",
    "import pandas as pd\n",
    "import scipy.sparse as sp\n",
    "\n",
    "# ---- CONFIG ----\n",
    "RAW_LAYER_NAME = \"raw\"   # change to the right layer name in ad_raw if different (else we'll use ad_raw.X)\n",
    "\n",
    "# ---- 1) Build a robust, unique matching key on both objects ----\n",
    "def build_match_key(ann, sample_col=\"grid_label\"):\n",
    "    # Prefer a stable barcode column if present, else use obs_names\n",
    "    if \"barcode\" in ann.obs:\n",
    "        base = ann.obs[\"barcode\"].astype(str)\n",
    "    elif \"CellID\" in ann.obs:\n",
    "        base = ann.obs[\"CellID\"].astype(str)\n",
    "    else:\n",
    "        base = pd.Series(ann.obs_names, index=ann.obs_names, name=\"barcode\").astype(str)\n",
    "\n",
    "    # If sample_id exists, combine to disambiguate duplicates across samples\n",
    "    if sample_col in ann.obs:\n",
    "        key = ann.obs[sample_col].astype(str) + \"|\" + base\n",
    "    else:\n",
    "        key = base.copy()\n",
    "\n",
    "    # Ensure uniqueness: add suffixes if necessary\n",
    "    # (pandas will append '.1', '.2', ... to duplicates)\n",
    "    key = pd.Index(key).to_series(index=ann.obs_names)\n",
    "    key = key.astype(str)\n",
    "    # If still non-unique, make unique using cumcount\n",
    "    if not key.is_unique:\n",
    "        dup_counts = key.groupby(key).cumcount()\n",
    "        key = np.where(dup_counts > 0, key + \".\" + dup_counts.astype(str), key)\n",
    "        key = pd.Series(key, index=ann.obs_names, name=\"match_key\")\n",
    "\n",
    "    ann.obs[\"match_key\"] = pd.Series(key, index=ann.obs_names, name=\"match_key\")\n",
    "    # Keep AnnData index valid (can stay non-unique), matching will use match_key\n",
    "    return \"match_key\"\n",
    "\n",
    "\n"
   ]
  },
  {
   "cell_type": "code",
   "execution_count": null,
   "id": "8cc46003-d386-4dca-91ba-4f8724be1d17",
   "metadata": {},
   "outputs": [],
   "source": [
    "base_data_dir = '/Users/christoffer/work/karolinska/development/RRMap/'\n",
    "adata = sc.read_h5ad(base_data_dir + '/data/TingTest_RREAE_5k_integration_scaled_clustered_annotated_2_5_anno.h5ad')\n",
    "ad_raw = sc.read_h5ad('/Users/christoffer/work/karolinska/development/RRMap/data/RREAE_5k_raw_integration.h5ad')"
   ]
  },
  {
   "cell_type": "code",
   "execution_count": null,
   "id": "250a1015-c1c9-4470-9083-3df65a5149f4",
   "metadata": {},
   "outputs": [],
   "source": [
    "mk_adata = build_match_key(adata, sample_col=\"grid_label\")\n",
    "mk_raw   = build_match_key(ad_raw, sample_col=\"grid_label\")\n",
    "\n",
    "# ---- 2) Sanity: check overlap of keys ----\n",
    "keys_adata = set(adata.obs[mk_adata])\n",
    "keys_raw   = set(ad_raw.obs[mk_raw])\n",
    "missing = keys_adata - keys_raw\n",
    "if missing:\n",
    "    # Show a few to help debugging\n",
    "    ex = list(missing)[:10]\n",
    "    raise ValueError(f\"{len(missing)} cells in adata not found in ad_raw by match_key. \"\n",
    "                     f\"First few: {ex}. Check that sample_id/barcodes align.\")\n",
    "\n",
    "# ---- 3) Align raw counts rows to adata cell order ----\n",
    "# Build position indexer: for each adata key, where is it in ad_raw?\n",
    "raw_pos = pd.Index(ad_raw.obs[mk_raw]).get_indexer(adata.obs[mk_adata])\n",
    "assert (raw_pos >= 0).all(), \"Unexpected negative positions; keys mismatch.\"\n",
    "\n",
    "# Get raw counts matrix\n",
    "Xsrc = ad_raw.layers[RAW_LAYER_NAME] if RAW_LAYER_NAME in ad_raw.layers else ad_raw.X\n",
    "Xsrc = Xsrc.tocsr() if sp.issparse(Xsrc) else np.asarray(Xsrc)\n",
    "\n",
    "# Slice rows (cells) into adata order\n",
    "X_rows = Xsrc[raw_pos, :]\n",
    "\n",
    "# ---- 4) Align gene order (columns) to adata.var_names ----\n",
    "if not ad_raw.var_names.equals(adata.var_names):\n",
    "    # adata genes must all exist in ad_raw\n",
    "    col_idx = ad_raw.var_names.get_indexer(adata.var_names)\n",
    "    if (col_idx < 0).any():\n",
    "        missing_genes = list(adata.var_names[col_idx < 0][:10])\n",
    "        raise ValueError(f\"Some adata genes not in ad_raw: {missing_genes} ...\")\n",
    "    X_rows = X_rows[:, col_idx]\n",
    "\n",
    "# ---- 5) Store as raw counts layer on adata ----\n",
    "adata.layers[\"raw\"] = X_rows if sp.issparse(X_rows) else np.asarray(X_rows)\n",
    "print(f\"✅ adata.layers['raw'] set. Shape={adata.layers['raw'].shape}, \"\n",
    "      f\"type={'sparse' if sp.issparse(adata.layers['raw']) else 'ndarray'}\")\n",
    "\n",
    "# (Optional) If you want a fully unique AnnData index to avoid future warnings:\n",
    "# adata.obs_names_make_unique()"
   ]
  },
  {
   "cell_type": "code",
   "execution_count": null,
   "id": "fbbc313b-df88-404f-8800-b560558a3a7d",
   "metadata": {},
   "outputs": [],
   "source": [
    "#adata.write('../data/RREAE_5k_raw_integration_processed.h5ad')"
   ]
  }
 ],
 "metadata": {
  "kernelspec": {
   "display_name": "sc",
   "language": "python",
   "name": "sc"
  },
  "language_info": {
   "codemirror_mode": {
    "name": "ipython",
    "version": 3
   },
   "file_extension": ".py",
   "mimetype": "text/x-python",
   "name": "python",
   "nbconvert_exporter": "python",
   "pygments_lexer": "ipython3",
   "version": "3.8.20"
  }
 },
 "nbformat": 4,
 "nbformat_minor": 5
}
