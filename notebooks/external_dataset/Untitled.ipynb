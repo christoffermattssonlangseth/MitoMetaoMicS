{
 "cells": [
  {
   "cell_type": "code",
   "execution_count": 1,
   "id": "47332cdf-0592-44c9-ab3e-8f006c1592db",
   "metadata": {},
   "outputs": [],
   "source": [
    "import pandas as pd"
   ]
  },
  {
   "cell_type": "code",
   "execution_count": null,
   "id": "0e6fccba-bab9-4bdf-b247-94927df34802",
   "metadata": {},
   "outputs": [],
   "source": [
    "meta = pd.read_csv('/Volumes/PXD038699/meta_5shape.tsv', sep = '\\t')"
   ]
  },
  {
   "cell_type": "code",
   "execution_count": null,
   "id": "54be43c4-6078-401c-9baa-abeb84520ebd",
   "metadata": {},
   "outputs": [],
   "source": [
    "meta"
   ]
  },
  {
   "cell_type": "code",
   "execution_count": null,
   "id": "0706f794-edc2-40e6-bce1-dab7ea65cb8a",
   "metadata": {},
   "outputs": [],
   "source": []
  }
 ],
 "metadata": {
  "kernelspec": {
   "display_name": "sc",
   "language": "python",
   "name": "sc"
  },
  "language_info": {
   "codemirror_mode": {
    "name": "ipython",
    "version": 3
   },
   "file_extension": ".py",
   "mimetype": "text/x-python",
   "name": "python",
   "nbconvert_exporter": "python",
   "pygments_lexer": "ipython3",
   "version": "3.8.20"
  }
 },
 "nbformat": 4,
 "nbformat_minor": 5
}
